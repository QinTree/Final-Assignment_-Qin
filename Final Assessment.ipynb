{
 "cells": [
  {
   "cell_type": "markdown",
   "id": "c02a4db3-a0c3-4697-9a49-52b920e9edc6",
   "metadata": {},
   "source": [
    "# My Jupyter Notebook on IBM Watson Studio"
   ]
  },
  {
   "cell_type": "markdown",
   "id": "0e3e99f8-cb05-429c-962b-a39cf332a892",
   "metadata": {},
   "source": [
    "**Qin Lan**"
   ]
  },
  {
   "cell_type": "markdown",
   "id": "de7c95df-c88d-4eb6-b639-f1b78b77dffd",
   "metadata": {},
   "source": [
    "*I am interested in data science because it is interesting.*"
   ]
  },
  {
   "cell_type": "markdown",
   "id": "5c10d867-684a-4bc0-ad20-6809e1136b3b",
   "metadata": {},
   "source": [
    "### My code is supposed to calculate the result of one plus one"
   ]
  },
  {
   "cell_type": "code",
   "execution_count": 2,
   "id": "46f0fedd-b7a5-4281-af6d-a219374bb629",
   "metadata": {},
   "outputs": [
    {
     "data": {
      "text/plain": [
       "2"
      ]
     },
     "execution_count": 2,
     "metadata": {},
     "output_type": "execute_result"
    }
   ],
   "source": [
    "1+1"
   ]
  },
  {
   "cell_type": "markdown",
   "id": "82de6035-f663-4967-adb1-40f113a7e630",
   "metadata": {},
   "source": [
    "1. Be kind\n",
    "2. Be patient   \n",
    "\n",
    " * `When you are lucky.` \n",
    "3. Be happy \n",
    " * `Sleep`  \n",
    "\n",
    "4. Be grateful.\n",
    "\n",
    "\n",
    "[Github link](https://github.com/adam-p/markdown-here/wiki/Markdown-Cheatsheet)"
   ]
  },
  {
   "cell_type": "code",
   "execution_count": null,
   "id": "f2ac3ef5-a11c-4d12-86cb-26fa4638e2bf",
   "metadata": {},
   "outputs": [],
   "source": []
  }
 ],
 "metadata": {
  "kernelspec": {
   "display_name": "Python",
   "language": "python",
   "name": "conda-env-python-py"
  },
  "language_info": {
   "codemirror_mode": {
    "name": "ipython",
    "version": 3
   },
   "file_extension": ".py",
   "mimetype": "text/x-python",
   "name": "python",
   "nbconvert_exporter": "python",
   "pygments_lexer": "ipython3",
   "version": "3.7.12"
  }
 },
 "nbformat": 4,
 "nbformat_minor": 5
}
